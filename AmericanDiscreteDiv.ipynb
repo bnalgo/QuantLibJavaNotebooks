{
 "cells": [
  {
   "cell_type": "code",
   "execution_count": 95,
   "metadata": {},
   "outputs": [],
   "source": [
    "/*\n",
    "Example of Pricing an American Option on a Dividend Paying Stock in QuantLib in Java\n",
    "See https://bnikolic.co.uk/blog/ql-american-disc-dividend and QuantLib-SWIG Java Equity Option examples. \n",
    "Run this on in Jupyter using IJava (see https://bnikolic.co.uk/blog/java/c++/jupyter/2023/04/20/ijava-binder)\n",
    "*/"
   ]
  },
  {
   "cell_type": "code",
   "execution_count": 96,
   "metadata": {},
   "outputs": [],
   "source": [
    "%jars \"QuantLib.jar\""
   ]
  },
  {
   "cell_type": "code",
   "execution_count": 97,
   "metadata": {},
   "outputs": [],
   "source": [
    "import org.quantlib.DayCounter;\n",
    "import org.quantlib.Actual365Fixed;\n",
    "\n",
    "import org.quantlib.Month;\n",
    "import org.quantlib.Date;\n",
    "import org.quantlib.TARGET;\n",
    "import org.quantlib.Calendar;\n",
    "import org.quantlib.Period;\n",
    "\n",
    "\n",
    "import org.quantlib.Exercise;\n",
    "import org.quantlib.AmericanExercise;\n",
    "import org.quantlib.Option;\n",
    "import org.quantlib.Payoff;\n",
    "import org.quantlib.PlainVanillaPayoff;\n",
    "import org.quantlib.DividendVanillaOption;\n",
    "\n",
    "import org.quantlib.DateVector;\n",
    "import org.quantlib.DoubleVector;\n",
    "import org.quantlib.TimeUnit;\n",
    "\n",
    "import org.quantlib.QuoteHandle;\n",
    "import org.quantlib.SimpleQuote;\n",
    "\n",
    "import org.quantlib.YieldTermStructureHandle;\n",
    "import org.quantlib.FlatForward;\n",
    "import org.quantlib.BlackVolTermStructureHandle;\n",
    "import org.quantlib.BlackConstantVol;\n",
    "import org.quantlib.BlackScholesProcess;\n",
    "\n",
    "import org.quantlib.FdBlackScholesVanillaEngine;\n",
    "\n",
    "import org.quantlib.Settings;"
   ]
  },
  {
   "cell_type": "code",
   "execution_count": 98,
   "metadata": {},
   "outputs": [],
   "source": [
    "Calendar calendar = new TARGET();\n",
    "DayCounter dayCounter=new Actual365Fixed();\n",
    "\n",
    "Date settlementDate = new Date(17, Month.May, 2023);\n",
    "Date maturity = new Date(17, Month.May, 2024);\n",
    "\n",
    "Settings.instance().setEvaluationDate(settlementDate);\n",
    "\n",
    "\n",
    "double strike = 100;\n",
    "double underlying = 100;\n",
    "double riskFreeRate = 0.04;\n",
    "double volatility = 0.20;"
   ]
  },
  {
   "cell_type": "code",
   "execution_count": 99,
   "metadata": {},
   "outputs": [],
   "source": [
    "Exercise americanExercise = new AmericanExercise(settlementDate,\n",
    "                                                maturity);\n",
    "                                                \n",
    "PlainVanillaPayoff payoff = new PlainVanillaPayoff(Option.Type.Call, strike);                                                "
   ]
  },
  {
   "cell_type": "code",
   "execution_count": 100,
   "metadata": {},
   "outputs": [],
   "source": [
    "DateVector divDates = new DateVector();\n",
    "DoubleVector divAmounts = new DoubleVector();\n",
    "\n",
    "Date divRoot = new Date(1, Month.March, 2023);\n",
    "for (int i = 1; i <= 4; i++) {\n",
    "        Date d = divRoot.add(new Period(3*i, TimeUnit.Months));\n",
    "           divDates.add(d);\n",
    "           divAmounts.add(1.0);\n",
    "        }\n",
    "        \n",
    "DividendVanillaOption opt = new DividendVanillaOption(payoff,\n",
    "                            americanExercise,\n",
    "                            divDates,\n",
    "                            divAmounts);\n",
    "        \n",
    "\n",
    "QuoteHandle underlyingH = new QuoteHandle(new SimpleQuote(underlying));\n",
    "\n",
    "YieldTermStructureHandle flatTermStructure =\n",
    "            new YieldTermStructureHandle(new FlatForward(\n",
    "                                  settlementDate, riskFreeRate, dayCounter));\n",
    "    \n",
    "BlackVolTermStructureHandle flatVolatility =\n",
    "        new BlackVolTermStructureHandle(new BlackConstantVol(\n",
    "                          settlementDate, calendar, volatility, dayCounter));\n",
    "\n",
    "BlackScholesProcess stochasticProcess =\n",
    "            new BlackScholesProcess(underlyingH,\n",
    "                                      flatTermStructure,\n",
    "                                          flatVolatility);\n",
    "\n",
    "opt.setPricingEngine( new FdBlackScholesVanillaEngine(stochasticProcess) );\n"
   ]
  },
  {
   "cell_type": "code",
   "execution_count": 101,
   "metadata": {},
   "outputs": [
    {
     "data": {
      "text/plain": [
       "7.815956882111247"
      ]
     },
     "execution_count": 101,
     "metadata": {},
     "output_type": "execute_result"
    }
   ],
   "source": [
    "opt.NPV();"
   ]
  },
  {
   "cell_type": "code",
   "execution_count": null,
   "metadata": {},
   "outputs": [],
   "source": []
  },
  {
   "cell_type": "code",
   "execution_count": null,
   "metadata": {},
   "outputs": [],
   "source": []
  }
 ],
 "metadata": {
  "kernelspec": {
   "display_name": "Java",
   "language": "java",
   "name": "java"
  },
  "language_info": {
   "codemirror_mode": "java",
   "file_extension": ".jshell",
   "mimetype": "text/x-java-source",
   "name": "Java",
   "pygments_lexer": "java",
   "version": "20+36-FR"
  }
 },
 "nbformat": 4,
 "nbformat_minor": 2
}
